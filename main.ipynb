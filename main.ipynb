{
 "cells": [
  {
   "cell_type": "code",
   "execution_count": 1,
   "id": "7f9b2c9c",
   "metadata": {},
   "outputs": [
    {
     "name": "stdout",
     "output_type": "stream",
     "text": [
      "Justin Brooks\n"
     ]
    }
   ],
   "source": [
    "print(\"Justin Brooks\")"
   ]
  },
  {
   "cell_type": "code",
   "execution_count": 6,
   "id": "cf14c65e",
   "metadata": {},
   "outputs": [
    {
     "name": "stdout",
     "output_type": "stream",
     "text": [
      "41\n",
      "32\n"
     ]
    }
   ],
   "source": [
    "wallet = 41\n",
    "\n",
    "print(wallet)\n",
    "\n",
    "wallet = 32\n",
    "\n",
    "print (wallet)"
   ]
  },
  {
   "cell_type": "code",
   "execution_count": 11,
   "id": "7047cf80",
   "metadata": {
    "scrolled": true
   },
   "outputs": [
    {
     "name": "stdout",
     "output_type": "stream",
     "text": [
      "10\n"
     ]
    }
   ],
   "source": [
    "day = 10\n",
    "\n",
    "print(day)\n"
   ]
  },
  {
   "cell_type": "code",
   "execution_count": 12,
   "id": "815c046b",
   "metadata": {},
   "outputs": [
    {
     "name": "stdout",
     "output_type": "stream",
     "text": [
      "-15\n"
     ]
    }
   ],
   "source": [
    "temp = -15\n",
    "\n",
    "print (temp)"
   ]
  },
  {
   "cell_type": "code",
   "execution_count": 13,
   "id": "c76258df",
   "metadata": {},
   "outputs": [
    {
     "name": "stdout",
     "output_type": "stream",
     "text": [
      "190.435623\n"
     ]
    }
   ],
   "source": [
    "weight = 190.435623\n",
    "\n",
    "print (weight)"
   ]
  },
  {
   "cell_type": "code",
   "execution_count": 14,
   "id": "18c099b0",
   "metadata": {},
   "outputs": [
    {
     "name": "stdout",
     "output_type": "stream",
     "text": [
      "13\n"
     ]
    }
   ],
   "source": [
    "print (day+3)"
   ]
  },
  {
   "cell_type": "code",
   "execution_count": 17,
   "id": "0f99a643",
   "metadata": {},
   "outputs": [
    {
     "name": "stdout",
     "output_type": "stream",
     "text": [
      "380.871246\n"
     ]
    }
   ],
   "source": [
    "print(weight*2)"
   ]
  },
  {
   "cell_type": "code",
   "execution_count": 39,
   "id": "6d4041e4",
   "metadata": {},
   "outputs": [
    {
     "name": "stdout",
     "output_type": "stream",
     "text": [
      "14.2\n",
      "2\n"
     ]
    }
   ],
   "source": [
    "laptop_size = (14.2)\n",
    "laptop_quantity = (2)\n",
    "print (laptop_size)\n",
    "print (laptop_quantity)"
   ]
  },
  {
   "cell_type": "code",
   "execution_count": 21,
   "id": "ccb1c812",
   "metadata": {},
   "outputs": [
    {
     "name": "stdout",
     "output_type": "stream",
     "text": [
      "7/10/23\n"
     ]
    }
   ],
   "source": [
    "date = '7/10/23'\n",
    "print (date)"
   ]
  },
  {
   "cell_type": "code",
   "execution_count": 27,
   "id": "39863e89",
   "metadata": {},
   "outputs": [
    {
     "name": "stdout",
     "output_type": "stream",
     "text": [
      "Nick's Pizza Shop, the \"best\" there is!\n"
     ]
    }
   ],
   "source": [
    "store = \"Nick\\'s Pizza Shop, the \\\"best\\\" there is!\"\n",
    "print(store)\n"
   ]
  },
  {
   "cell_type": "code",
   "execution_count": 28,
   "id": "44d1e496",
   "metadata": {},
   "outputs": [
    {
     "name": "stdout",
     "output_type": "stream",
     "text": [
      "The Lord of the Rings: Two Towers\n"
     ]
    }
   ],
   "source": [
    "movie = 'The Lord of the Rings: Two Towers'\n",
    "print(movie)"
   ]
  },
  {
   "cell_type": "code",
   "execution_count": 38,
   "id": "8e857cfd",
   "metadata": {},
   "outputs": [
    {
     "name": "stdout",
     "output_type": "stream",
     "text": [
      "Today is Monday, July 10 and it's 88 degrees outside.\n"
     ]
    }
   ],
   "source": [
    "day = 10\n",
    "day_name = 'Monday'\n",
    "month = 'July'\n",
    "temp = 88\n",
    "\n",
    "print (f\"Today is {day_name}, {month} {day} and it's {temp} degrees outside.\")"
   ]
  },
  {
   "cell_type": "code",
   "execution_count": 52,
   "id": "1c3ea71e",
   "metadata": {},
   "outputs": [
    {
     "name": "stdout",
     "output_type": "stream",
     "text": [
      "The light is on!\n",
      "I can see you.\n"
     ]
    }
   ],
   "source": [
    "light_is_on = True\n",
    "\n",
    "if light_is_on:\n",
    "    print('The light is on!')\n",
    "    print('I can see you.')\n",
    "else:\n",
    "    print('The light is off!')\n",
    "    print('Where did you go?')"
   ]
  },
  {
   "cell_type": "code",
   "execution_count": 55,
   "id": "5f9c9c84",
   "metadata": {},
   "outputs": [
    {
     "name": "stdout",
     "output_type": "stream",
     "text": [
      "Have you had enough water?\n"
     ]
    }
   ],
   "source": [
    "am_I_hungry = False\n",
    "\n",
    "if am_I_hungry:\n",
    "    print('Check the fridge.')\n",
    "else:\n",
    "    print('Have you had enough water?')"
   ]
  },
  {
   "cell_type": "code",
   "execution_count": 60,
   "id": "232d9656",
   "metadata": {},
   "outputs": [
    {
     "name": "stdout",
     "output_type": "stream",
     "text": [
      "Are you eating too many snacks?\n"
     ]
    }
   ],
   "source": [
    "weight = 205\n",
    "\n",
    "if weight < 200:\n",
    "    print('You\\'re underweight.')\n",
    "else:\n",
    "    print('Are you eating too many snacks?')"
   ]
  },
  {
   "cell_type": "code",
   "execution_count": 67,
   "id": "070a65cf",
   "metadata": {},
   "outputs": [
    {
     "name": "stdout",
     "output_type": "stream",
     "text": [
      "You are a child.\n"
     ]
    }
   ],
   "source": [
    "age = 16\n",
    "\n",
    "if age >= 18:\n",
    "    print('You are an adult')\n",
    "else:\n",
    "    print('You are a child.')"
   ]
  },
  {
   "cell_type": "code",
   "execution_count": 76,
   "id": "ca088bcb",
   "metadata": {},
   "outputs": [
    {
     "name": "stdout",
     "output_type": "stream",
     "text": [
      "0.5506494263277669\n"
     ]
    }
   ],
   "source": [
    "import random\n",
    "\n",
    "random.randint(0,10)\n",
    "print(random.random())"
   ]
  },
  {
   "cell_type": "code",
   "execution_count": 103,
   "id": "91710ce7",
   "metadata": {},
   "outputs": [
    {
     "name": "stdout",
     "output_type": "stream",
     "text": [
      "Try again later\n"
     ]
    }
   ],
   "source": [
    "import random\n",
    "\n",
    "magic_8_ball = random.randint(0,4)\n",
    "\n",
    "if magic_8_ball==0:\n",
    "    print ('Try again later')\n",
    "if magic_8_ball==1:\n",
    "    print ('Outlook is good')\n",
    "if magic_8_ball==2:\n",
    "    print (\"Unlikely\")\n",
    "if magic_8_ball==3:\n",
    "    print ('Yes')\n",
    "if magic_8_ball==4:\n",
    "    print ('No')"
   ]
  },
  {
   "cell_type": "code",
   "execution_count": 121,
   "id": "cf3c96fc",
   "metadata": {},
   "outputs": [
    {
     "name": "stdout",
     "output_type": "stream",
     "text": [
      "Play the lottery right now!  Your lucky number is: 10\n"
     ]
    }
   ],
   "source": [
    "import random\n",
    "\n",
    "lucky_number=random.randint(1,100)\n",
    "\n",
    "fortune_number=random.randint(1,3)\n",
    "\n",
    "fortune_text = ''\n",
    "\n",
    "if fortune_number==1:\n",
    "    fortune_text='You will have a great day!'\n",
    "if fortune_number==2:\n",
    "    fortune_text='Things appear to be too good to be true.'\n",
    "if fortune_number==3:\n",
    "    fortune_text='Play the lottery right now!'\n",
    "\n",
    "print(f'{fortune_text}  Your lucky number is: {lucky_number}')"
   ]
  },
  {
   "cell_type": "code",
   "execution_count": null,
   "id": "26f507cf",
   "metadata": {},
   "outputs": [],
   "source": []
  },
  {
   "cell_type": "code",
   "execution_count": 127,
   "id": "21750de2",
   "metadata": {},
   "outputs": [
    {
     "name": "stdout",
     "output_type": "stream",
     "text": [
      "['Aladdin', 'Ghostbusters', 'Star Wars: The Empire Strikes Back']\n",
      "Star Wars: The Empire Strikes Back\n"
     ]
    }
   ],
   "source": [
    "fav_movies = [\"Aladdin\", \"Ghostbusters\", \"Star Wars: The Empire Strikes Back\"]\n",
    "\n",
    "print(fav_movies)\n",
    "\n",
    "print(fav_movies[2])"
   ]
  },
  {
   "cell_type": "code",
   "execution_count": 128,
   "id": "b8cab876",
   "metadata": {},
   "outputs": [
    {
     "name": "stdout",
     "output_type": "stream",
     "text": [
      "7\n"
     ]
    }
   ],
   "source": [
    "fav_numbers = [7, 11, 42, 69]\n",
    "\n",
    "print(fav_numbers[0])"
   ]
  },
  {
   "cell_type": "code",
   "execution_count": 139,
   "id": "1b7c7d1c",
   "metadata": {},
   "outputs": [
    {
     "name": "stdout",
     "output_type": "stream",
     "text": [
      "3\n",
      "4\n",
      "Iron Man\n",
      "5\n",
      "['Aladdin', 'Ghostbusters', 'Star Wars: The Empire Strikes Back', 'Iron Man']\n",
      "['Star Wars: The Empire Strikes Back']\n"
     ]
    }
   ],
   "source": [
    "fav_movies = [\"Aladdin\", \"Ghostbusters\", \"Star Wars: The Empire Strikes Back\"]\n",
    "\n",
    "print(len(fav_movies))\n",
    "\n",
    "fav_movies.append(\"Iron Man\")\n",
    "\n",
    "print(len(fav_movies))\n",
    "\n",
    "print(fav_movies[3])\n",
    "\n",
    "fav_movies.insert(2, \"Lion King\")\n",
    "print(len(fav_movies))\n",
    "\n",
    "del(fav_movies[2])\n",
    "print(fav_movies)\n",
    "\n",
    "del(fav_movies[3])\n",
    "del(fav_movies[0])\n",
    "del(fav_movies[0])\n",
    "print(fav_movies)"
   ]
  },
  {
   "cell_type": "code",
   "execution_count": 144,
   "id": "ed96f3a3",
   "metadata": {},
   "outputs": [
    {
     "name": "stdout",
     "output_type": "stream",
     "text": [
      "0\n",
      "1\n",
      "2\n",
      "3\n",
      "4\n",
      "5\n",
      "6\n",
      "7\n",
      "8\n",
      "9\n",
      "Aladdin\n",
      "Ghostbusters\n",
      "Star Wars: The Empire Strikes Back\n"
     ]
    }
   ],
   "source": [
    "for number in range(10):\n",
    "    print(number)\n",
    "    \n",
    "fav_movies = [\"Aladdin\", \"Ghostbusters\", \"Star Wars: The Empire Strikes Back\"]\n",
    "\n",
    "for movie in fav_movies:\n",
    "    print(movie)"
   ]
  },
  {
   "cell_type": "code",
   "execution_count": 148,
   "id": "8a1425dc",
   "metadata": {},
   "outputs": [
    {
     "name": "stdout",
     "output_type": "stream",
     "text": [
      "2\n",
      "4\n",
      "6\n",
      "8\n",
      "10\n",
      "12\n",
      "14\n",
      "16\n",
      "18\n",
      "20\n",
      "22\n",
      "24\n",
      "26\n",
      "28\n",
      "30\n",
      "32\n",
      "34\n",
      "36\n",
      "38\n",
      "40\n",
      "42\n",
      "44\n",
      "46\n",
      "48\n",
      "50\n",
      "52\n",
      "54\n",
      "56\n",
      "58\n",
      "60\n",
      "62\n",
      "64\n",
      "66\n",
      "68\n",
      "70\n",
      "72\n",
      "74\n",
      "76\n",
      "78\n",
      "80\n"
     ]
    }
   ],
   "source": [
    "for number in range(40):\n",
    "    print((number+1) * 2)"
   ]
  },
  {
   "cell_type": "code",
   "execution_count": 155,
   "id": "9f0848e8",
   "metadata": {},
   "outputs": [
    {
     "name": "stdout",
     "output_type": "stream",
     "text": [
      "14\n",
      "4\n"
     ]
    }
   ],
   "source": [
    "cats = {\"Jane\":6, \"Tom\":14, \"Sarah\":8}\n",
    "\n",
    "print(cats[\"Tom\"])\n",
    "\n",
    "cats[\"Wilson\"] =1\n",
    "\n",
    "print(len(cats))\n",
    "\n"
   ]
  },
  {
   "cell_type": "code",
   "execution_count": 159,
   "id": "b3469093",
   "metadata": {},
   "outputs": [
    {
     "name": "stdout",
     "output_type": "stream",
     "text": [
      "{1: False, 2: False, 3: False, 4: True, 5: True, 6: True}\n",
      "6\n"
     ]
    }
   ],
   "source": [
    "replacement_age = {1:False, 2:False, 3:False, 4:True, 5:True, 6:True}\n",
    "\n",
    "print(replacement_age)\n",
    "print(len(replacement_age))"
   ]
  },
  {
   "cell_type": "code",
   "execution_count": 17,
   "id": "d30e8650",
   "metadata": {},
   "outputs": [
    {
     "name": "stdout",
     "output_type": "stream",
     "text": [
      "278\n",
      "7\n",
      "{'a': 4, 'b': 2, 'c': 1}\n",
      "278\n",
      "{'four': 1, 'score': 1, 'and': 6, 'seven': 1, 'years': 1, 'ago': 1, 'our': 2, 'fathers': 1, 'brought': 1, 'forth': 1, 'on': 2, 'this': 3, 'continent,': 1, 'a': 7, 'new': 2, 'nation,': 3, 'conceived': 2, 'in': 4, 'liberty,': 1, 'dedicated': 3, 'to': 8, 'the': 11, 'proposition': 1, 'that': 13, 'all': 1, 'men': 1, 'are': 3, 'created': 1, 'equal.': 1, 'now': 1, 'we': 10, 'engaged': 1, 'great': 3, 'civil': 1, 'war,': 1, 'testing': 1, 'whether': 1, 'or': 2, 'any': 1, 'nation': 2, 'so': 3, 'dedicated,': 1, 'can': 5, 'long': 2, 'endure.': 1, 'met': 1, 'battle-field': 1, 'of': 5, 'war.': 1, 'have': 5, 'come': 1, 'dedicate': 2, 'portion': 1, 'field,': 1, 'as': 1, 'final': 1, 'resting': 1, 'place': 1, 'for': 5, 'those': 1, 'who': 3, 'here': 5, 'gave': 2, 'their': 1, 'lives': 1, 'might': 1, 'live.': 1, 'it': 4, 'is': 3, 'altogether': 1, 'fitting': 1, 'proper': 1, 'should': 1, 'do': 1, 'this.': 1, 'but,': 1, 'larger': 1, 'sense,': 1, 'not': 5, '--': 7, 'consecrate': 1, 'hallow': 1, 'ground.': 1, 'brave': 1, 'men,': 1, 'living': 1, 'dead,': 1, 'struggled': 1, 'here,': 2, 'consecrated': 1, 'it,': 1, 'far': 2, 'above': 1, 'poor': 1, 'power': 1, 'add': 1, 'detract.': 1, 'world': 1, 'will': 1, 'little': 1, 'note,': 1, 'nor': 1, 'remember': 1, 'what': 2, 'say': 1, 'but': 1, 'never': 1, 'forget': 1, 'they': 3, 'did': 1, 'here.': 1, 'us': 3, 'living,': 1, 'rather,': 1, 'be': 2, 'unfinished': 1, 'work': 1, 'which': 2, 'fought': 1, 'thus': 1, 'nobly': 1, 'advanced.': 1, 'rather': 1, 'task': 1, 'remaining': 1, 'before': 1, 'from': 2, 'these': 2, 'honored': 1, 'dead': 2, 'take': 1, 'increased': 1, 'devotion': 2, 'cause': 1, 'last': 1, 'full': 1, 'measure': 1, 'highly': 1, 'resolve': 1, 'shall': 3, 'died': 1, 'vain': 1, 'under': 1, 'god,': 1, 'birth': 1, 'freedom': 1, 'government': 1, 'people,': 3, 'by': 1, 'perish': 1, 'earth.': 1}\n"
     ]
    }
   ],
   "source": [
    "gettysburg = \"\"\"\n",
    "Four score and seven years ago our fathers brought forth on this continent, a new nation, conceived in Liberty, and dedicated to the proposition that all men are created equal. Now we are engaged in a great civil war, testing whether that nation, or any nation so conceived and so dedicated, can long endure. We are met on a great battle-field of that war. We have come to dedicate a portion of that field, as a final resting place for those who here gave their lives that that nation might live. It is altogether fitting and proper that we should do this. But, in a larger sense, we can not dedicate -- we can not consecrate -- we can not hallow -- this ground. The brave men, living and dead, who struggled here, have consecrated it, far above our poor power to add or detract. The world will little note, nor long remember what we say here, but it can never forget what they did here. It is for us the living, rather, to be dedicated here to the unfinished work which they who fought here have thus far so nobly advanced. It is rather for us to be here dedicated to the great task remaining before us -- that from these honored dead we take increased devotion to that cause for which they gave the last full measure of devotion -- that we here highly resolve that these dead shall not have died in vain -- that this nation, under God, shall have a new birth of freedom -- and that government of the people, by the people, for the people, shall not perish from the earth.\n",
    "\"\"\"\n",
    "print(len(gettysburg.split()))\n",
    "\n",
    "short_text = \"\"\"a b c A a a b\"\"\"\n",
    "print(len(short_text.split()))\n",
    "word_count = {}\n",
    "for word in short_text.lower().split():\n",
    "    if word in word_count:\n",
    "        word_count[word] += 1\n",
    "    else:\n",
    "        word_count[word] = 1\n",
    "\n",
    "print(word_count)\n",
    "\n",
    "gettysburg_count = {}\n",
    "for word in gettysburg.lower().split():\n",
    "    if word in gettysburg_count:\n",
    "        gettysburg_count[word] += 1\n",
    "    else:\n",
    "        gettysburg_count[word] = 1\n",
    "print(len(gettysburg.split()))\n",
    "print(gettysburg_count)\n"
   ]
  },
  {
   "cell_type": "code",
   "execution_count": 26,
   "id": "b96d1327",
   "metadata": {},
   "outputs": [
    {
     "name": "stdout",
     "output_type": "stream",
     "text": [
      "Woof woof!\n",
      "I'm a good dog\n",
      "Woof woof!\n",
      "I'm a good dog\n"
     ]
    }
   ],
   "source": [
    "def bark():\n",
    "    print(\"Woof woof!\")\n",
    "    print(\"I'm a good dog\")\n",
    "\n",
    "for x in range (2):\n",
    "    bark()"
   ]
  },
  {
   "cell_type": "code",
   "execution_count": 36,
   "id": "a72d337b",
   "metadata": {},
   "outputs": [
    {
     "name": "stdout",
     "output_type": "stream",
     "text": [
      "Hello Nick!\n"
     ]
    }
   ],
   "source": [
    "def hello(first_name):\n",
    "    print(f\"Hello {first_name}!\")\n",
    "    \n",
    "hello(\"Nick\")"
   ]
  },
  {
   "cell_type": "code",
   "execution_count": 38,
   "id": "94bcdee8",
   "metadata": {},
   "outputs": [
    {
     "name": "stdout",
     "output_type": "stream",
     "text": [
      "12\n",
      "10\n"
     ]
    }
   ],
   "source": [
    "def add_numbers(num1, num2):\n",
    "    print(num1 +num2)\n",
    "\n",
    "add_numbers(4,8)\n",
    "add_numbers(3,7)"
   ]
  },
  {
   "cell_type": "code",
   "execution_count": 45,
   "id": "ec80a41f",
   "metadata": {},
   "outputs": [
    {
     "name": "stdout",
     "output_type": "stream",
     "text": [
      "Congratulations Barry, on being 2 years old today!\n"
     ]
    }
   ],
   "source": [
    "def dog_info(age, name):\n",
    "    print(f\"Congratulations {name}, on being {age} years old today!\")\n",
    "    \n",
    "dog_info(2,\"Barry\")"
   ]
  },
  {
   "cell_type": "code",
   "execution_count": 51,
   "id": "1eda5c8b",
   "metadata": {},
   "outputs": [
    {
     "name": "stdout",
     "output_type": "stream",
     "text": [
      "10\n"
     ]
    }
   ],
   "source": [
    "def double(number):\n",
    "    return number * 2\n",
    "    \n",
    "new_number = double(5)\n",
    "\n",
    "print(new_number)\n"
   ]
  },
  {
   "cell_type": "code",
   "execution_count": 69,
   "id": "83bfea7e",
   "metadata": {},
   "outputs": [
    {
     "name": "stdout",
     "output_type": "stream",
     "text": [
      "DAN\n",
      "JUSTIN\n",
      "KARA\n"
     ]
    }
   ],
   "source": [
    "def capitalize(word_string):\n",
    "    return word_string.upper()\n",
    "    print(word_string)\n",
    "\n",
    "capitalize(\"stop yelling, please!\")\n",
    "\n",
    "names = ['dan', 'justin', 'kara']\n",
    "for name in names:\n",
    "    print(capitalize(name))"
   ]
  },
  {
   "cell_type": "code",
   "execution_count": 75,
   "id": "53cf77bd",
   "metadata": {},
   "outputs": [
    {
     "name": "stdout",
     "output_type": "stream",
     "text": [
      "72\n",
      "hello\n"
     ]
    }
   ],
   "source": [
    "wallet = 40 \n",
    "\n",
    "wallet -= 8 #purchased sandwich\n",
    "\n",
    "wallet += 40 #paday\n",
    "\n",
    "print(wallet)\n",
    "\n",
    "#need to figure out how to uppercase this\n",
    "# 'nick'.up()\n",
    "\n",
    "# Create a comment! Like this one ;)\n",
    "\n",
    "print(\"hello\")"
   ]
  },
  {
   "cell_type": "code",
   "execution_count": 5,
   "id": "c842b034",
   "metadata": {},
   "outputs": [
    {
     "name": "stdout",
     "output_type": "stream",
     "text": [
      "Enter some text: some text\n",
      "SOME TEXT\n"
     ]
    }
   ],
   "source": [
    "user_text = input('Enter some text: ')\n",
    "\n",
    "print(user_text.upper())"
   ]
  },
  {
   "cell_type": "code",
   "execution_count": 6,
   "id": "92f530be",
   "metadata": {},
   "outputs": [
    {
     "name": "stdout",
     "output_type": "stream",
     "text": [
      "What do you want to double? 8\n",
      "16\n"
     ]
    }
   ],
   "source": [
    "user_number = input(\"What do you want to double? \")\n",
    "print(int(user_number) * 2)"
   ]
  },
  {
   "cell_type": "code",
   "execution_count": 20,
   "id": "d3caaa9a",
   "metadata": {},
   "outputs": [
    {
     "name": "stdout",
     "output_type": "stream",
     "text": [
      "Enter some random text to modify: lower CASE\n",
      "input 1 to capitalize, or 2 to lowercase 2\n",
      "lower case\n"
     ]
    }
   ],
   "source": [
    "random_phrase = input('Enter some random text to modify: ')\n",
    "upper_or_lower = input('input 1 to capitalize, or 2 to lowercase ')\n",
    "\n",
    "if int(upper_or_lower) == 1:\n",
    "    print(random_phrase.upper())\n",
    "if int(upper_or_lower) == 2:\n",
    "    print(random_phrase.lower())"
   ]
  },
  {
   "cell_type": "code",
   "execution_count": 40,
   "id": "21666eaa",
   "metadata": {},
   "outputs": [
    {
     "name": "stdout",
     "output_type": "stream",
     "text": [
      "Welcome to the guessing game.  I am going to pick a number between 1 and 10\n",
      "Picking a number....\n",
      "what is your guess?: 5\n",
      "Incorrect, you need to guess higher. what is your guess?: 7\n",
      "Incorrect, you need to guess higher. what is your guess?: 9\n",
      "Incorrect, you need to guess higher. what is your guess?: 10\n",
      "You guessed right!  The right answer was 10.  It took you 4 guesses.\n"
     ]
    }
   ],
   "source": [
    "import random\n",
    "import time\n",
    "\n",
    "print(\"Welcome to the guessing game.  I am going to pick a number between 1 and 10\")\n",
    "time.sleep(2)\n",
    "print(\"Picking a number....\")\n",
    "time.sleep(3)\n",
    "guess = int(input(\"what is your guess?: \"))\n",
    "correct_number = random.randint(1,10)\n",
    "guess_count = 1\n",
    "\n",
    "while guess != correct_number:\n",
    "    guess_count += 1\n",
    "    time.sleep(1)\n",
    "    if guess < correct_number:\n",
    "        guess = int(input(\"Incorrect, you need to guess higher. what is your guess?: \"))\n",
    "    else:\n",
    "        guess = int(input(\"Incorrect, you need to guess lower, what is your guess?: \"))\n",
    "    \n",
    "print(f\"You guessed right!  The right answer was {correct_number}.  It took you {guess_count} guesses.\")"
   ]
  },
  {
   "cell_type": "markdown",
   "id": "74547d6d",
   "metadata": {},
   "source": [
    "\n",
    "\n"
   ]
  },
  {
   "cell_type": "code",
   "execution_count": null,
   "id": "db73a3ed",
   "metadata": {},
   "outputs": [],
   "source": []
  }
 ],
 "metadata": {
  "kernelspec": {
   "display_name": "Python 3 (ipykernel)",
   "language": "python",
   "name": "python3"
  },
  "language_info": {
   "codemirror_mode": {
    "name": "ipython",
    "version": 3
   },
   "file_extension": ".py",
   "mimetype": "text/x-python",
   "name": "python",
   "nbconvert_exporter": "python",
   "pygments_lexer": "ipython3",
   "version": "3.11.4"
  }
 },
 "nbformat": 4,
 "nbformat_minor": 5
}
